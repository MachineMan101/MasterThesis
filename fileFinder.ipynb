{
 "cells": [
  {
   "cell_type": "code",
   "execution_count": 5,
   "metadata": {},
   "outputs": [
    {
     "name": "stdout",
     "output_type": "stream",
     "text": [
      "['/home/michael/Documents/Master Thesis/P1/EmotionalStates.txt', '/home/michael/Documents/Master Thesis/P1/EmotionalRecordings/549229_15_16_7.3gp', '/home/michael/Documents/Master Thesis/P1/EmotionalRecordings/549229_11_15_1.3gp', '/home/michael/Documents/Master Thesis/P1/EmotionalRecordings/549229_5_10_36.3gp', '/home/michael/Documents/Master Thesis/P1/EmotionalRecordings/549229_16_11_56.3gp', '/home/michael/Documents/Master Thesis/P1/EmotionalRecordings/549229_19_20_50.3gp', '/home/michael/Documents/Master Thesis/P1/EmotionalRecordings/549229_8_14_17.3gp', '/home/michael/Documents/Master Thesis/P1/EmotionalRecordings/549229_12_22_7.3gp', '/home/michael/Documents/Master Thesis/P1/EmotionalRecordings/549229_7_8_59.3gp', '/home/michael/Documents/Master Thesis/P1/EmotionalRecordings/549229_12_0_28.3gp', '/home/michael/Documents/Master Thesis/P1/EmotionalRecordings/549229_9_11_39.3gp', '/home/michael/Documents/Master Thesis/P1/EmotionalRecordings/549229_10_13_59.3gp', '/home/michael/Documents/Master Thesis/P1/EmotionalRecordings/549229_14_11_50.3gp', '/home/michael/Documents/Master Thesis/P1/EmotionalRecordings/549229_6_9_42.3gp', '/home/michael/Documents/Master Thesis/P1/EmotionalRecordings/549229_3_18_51.3gp', '/home/michael/Documents/Master Thesis/P1/EmotionalRecordings/null_0_16_22.3gp', '/home/michael/Documents/Master Thesis/P2/EmotionalStates.txt', '/home/michael/Documents/Master Thesis/P2/EmotionalRecordings/549088_9_21_39.3gp', '/home/michael/Documents/Master Thesis/P2/EmotionalRecordings/549088_0_18_52.3gp', '/home/michael/Documents/Master Thesis/P2/EmotionalRecordings/null_0_13_41.3gp', '/home/michael/Documents/Master Thesis/P2/EmotionalRecordings/549088_8_21_53.3gp', '/home/michael/Documents/Master Thesis/P2/EmotionalRecordings/549088_10_22_3.3gp', '/home/michael/Documents/Master Thesis/P2/EmotionalRecordings/549088_7_21_50.3gp', '/home/michael/Documents/Master Thesis/P2/EmotionalRecordings/549088_3_22_5.3gp', '/home/michael/Documents/Master Thesis/P2/EmotionalRecordings/549088_4_21_53.3gp', '/home/michael/Documents/Master Thesis/P2/EmotionalRecordings/549088_5_21_37.3gp', '/home/michael/Documents/Master Thesis/P2/EmotionalRecordings/549088_2_22_1.3gp', '/home/michael/Documents/Master Thesis/P2/EmotionalRecordings/549088_14_10_25.3gp', '/home/michael/Documents/Master Thesis/P2/EmotionalRecordings/549088_13_22_1.3gp', '/home/michael/Documents/Master Thesis/P2/EmotionalRecordings/549088_12_23_3.3gp', '/home/michael/Documents/Master Thesis/P2/EmotionalRecordings/549088_11_22_0.3gp', '/home/michael/Documents/Master Thesis/P2/EmotionalRecordings/549088_6_22_0.3gp']\n",
      "['/home/michael/Documents/Master Thesis/P1/EmotionalStates.txt', '/home/michael/Documents/Master Thesis/P2/EmotionalStates.txt']\n"
     ]
    }
   ],
   "source": [
    "from os import listdir\n",
    "from os.path import isdir"
   ]
  },
  {
   "cell_type": "code",
   "execution_count": 2,
   "metadata": {},
   "outputs": [],
   "source": [
    "def getFiles(path):\n",
    "    #print path\n",
    "    files = []\n",
    "    f = listdir(path)\n",
    "    #print f\n",
    "    for i in f:\n",
    "        ffile = path+'/'+i\n",
    "        #print i\n",
    "        #print(path+'/'+i)\n",
    "        if isdir(path+'/'+i):\n",
    "            files += (getFiles(ffile))\n",
    "            #a = getFiles(path+'/'+i)\n",
    "            #for j in a:\n",
    "            #    files.append(j)\n",
    "        else:\n",
    "            files.append(ffile)\n",
    "        #print files\n",
    "    return files"
   ]
  },
  {
   "cell_type": "code",
   "execution_count": 3,
   "metadata": {},
   "outputs": [],
   "source": [
    "def filterType(files, ending):\n",
    "    l = len(ending)\n",
    "    filtered = []\n",
    "    for i in files:\n",
    "        candEnding = i[-l:]\n",
    "        if candEnding == ending:\n",
    "            filtered.append(i)\n",
    "    return filtered"
   ]
  }
 ],
 "metadata": {
  "kernelspec": {
   "display_name": "Python 2",
   "language": "python",
   "name": "python2"
  },
  "language_info": {
   "codemirror_mode": {
    "name": "ipython",
    "version": 2
   },
   "file_extension": ".py",
   "mimetype": "text/x-python",
   "name": "python",
   "nbconvert_exporter": "python",
   "pygments_lexer": "ipython2",
   "version": "2.7.12"
  }
 },
 "nbformat": 4,
 "nbformat_minor": 2
}
