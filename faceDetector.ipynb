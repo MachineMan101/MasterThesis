{
 "cells": [
  {
   "cell_type": "code",
   "execution_count": 49,
   "metadata": {},
   "outputs": [],
   "source": [
    "import cv2\n",
    "import matplotlib.pyplot as plt"
   ]
  },
  {
   "cell_type": "code",
   "execution_count": 50,
   "metadata": {},
   "outputs": [],
   "source": [
    "def convertToRGB(img):\n",
    "    return cv2.cvtColor(img, cv2.COLOR_BGR2RGB)"
   ]
  },
  {
   "cell_type": "code",
   "execution_count": 51,
   "metadata": {},
   "outputs": [],
   "source": [
    "def showImage(img):\n",
    "    cv2.imshow('Test Image', img)\n",
    "    cv2.waitKey(0)\n",
    "    cv2.destroyAllWindows()"
   ]
  },
  {
   "cell_type": "code",
   "execution_count": 52,
   "metadata": {},
   "outputs": [],
   "source": [
    "#test1 = cv2.imread('/home/michael/Pictures/face2.png')\n",
    "#gray_img = cv2.cvtColor(test1, cv2.COLOR_BGR2GRAY)\n",
    "#showImage(gray_img)"
   ]
  },
  {
   "cell_type": "code",
   "execution_count": 56,
   "metadata": {
    "scrolled": false
   },
   "outputs": [
    {
     "name": "stdout",
     "output_type": "stream",
     "text": [
      "('Number of faces found: ', 1)\n"
     ]
    }
   ],
   "source": [
    "haar_face_cascade = cv2.CascadeClassifier('/home/michael/Pictures/haarcascade_frontalface_alt.xml')\n",
    "lbp_face_cascade = cv2.CascadeClassifier('/home/michael/Pictures/lbpcascade_frontalface_improved.xml')\n",
    "haar_eye_cascade = cv2.CascadeClassifier('/home/michael/Pictures/haarcascade_eye.xml')\n",
    "faces = haar_face_cascade.detectMultiScale(gray_img, scaleFactor=1.1, minNeighbors=1);\n",
    "print('Number of faces found: ',len(faces))"
   ]
  },
  {
   "cell_type": "code",
   "execution_count": 63,
   "metadata": {},
   "outputs": [],
   "source": [
    "def drawFaces(img):\n",
    "    gray_img = cv2.cvtColor(frame, cv2.COLOR_BGR2GRAY)\n",
    "    faces = lbp_face_cascade.detectMultiScale(gray_img, scaleFactor=1.1, minNeighbors=2);\n",
    "    for (x,y,w,h) in faces:\n",
    "        cv2.rectangle(img, (x,y), (x+w, y+h), (255,0,0), 2)\n",
    "        roi_gray = gray_img[y:y+h, x:x+w]\n",
    "        roi_color = img[y:y+h, x:x+w]\n",
    "        eyes = haar_eye_cascade.detectMultiScale(roi_gray, 1.2, 5)\n",
    "        for (ex,ey,ew,eh) in eyes:\n",
    "            cv2.rectangle(roi_color,(ex,ey),(ex+ew,ey+eh),(0,255,0),2)"
   ]
  },
  {
   "cell_type": "code",
   "execution_count": 68,
   "metadata": {},
   "outputs": [
    {
     "name": "stdout",
     "output_type": "stream",
     "text": [
      "None\n"
     ]
    }
   ],
   "source": [
    "cap = cv2.VideoCapture('null_0_16_22.3gp')\n",
    "#cap = cv2.VideoCapture('549229_12_0_28.3gp')\n",
    "#cap = cv2.VideoCapture('549088_10_22_3.3gp')\n",
    "#cap = cv2.VideoCapture('549088_0_18_52.3gp')\n",
    "\n",
    "while(cap.isOpened()):\n",
    "    ret, frame = cap.read()\n",
    "\n",
    "    #find better condition here, like gray == None\n",
    "    try:\n",
    "        gray = cv2.cvtColor(frame, cv2.COLOR_BGR2GRAY)\n",
    "    except:\n",
    "        print(frame)\n",
    "        break\n",
    "\n",
    "    drawFaces(frame)\n",
    "    cv2.imshow('frame',frame)\n",
    "    if cv2.waitKey(1) & 0xFF == ord('q'):\n",
    "        break\n",
    "\n",
    "cap.release()\n",
    "cv2.destroyAllWindows()"
   ]
  },
  {
   "cell_type": "code",
   "execution_count": null,
   "metadata": {},
   "outputs": [],
   "source": []
  },
  {
   "cell_type": "code",
   "execution_count": null,
   "metadata": {},
   "outputs": [],
   "source": []
  }
 ],
 "metadata": {
  "kernelspec": {
   "display_name": "Python 2",
   "language": "python",
   "name": "python2"
  },
  "language_info": {
   "codemirror_mode": {
    "name": "ipython",
    "version": 2
   },
   "file_extension": ".py",
   "mimetype": "text/x-python",
   "name": "python",
   "nbconvert_exporter": "python",
   "pygments_lexer": "ipython2",
   "version": "2.7.12"
  }
 },
 "nbformat": 4,
 "nbformat_minor": 2
}
