{
 "cells": [
  {
   "cell_type": "code",
   "execution_count": 9,
   "metadata": {},
   "outputs": [],
   "source": [
    "from fileFinder import *"
   ]
  },
  {
   "cell_type": "code",
   "execution_count": 12,
   "metadata": {},
   "outputs": [],
   "source": [
    "path = '/home/michael/Documents/Master Thesis'\n",
    "files = getFiles(path)\n",
    "txtFiles = filterType(files, 'txt')\n",
    "videoFiles = filterType(files, '3gp')"
   ]
  },
  {
   "cell_type": "code",
   "execution_count": 13,
   "metadata": {},
   "outputs": [
    {
     "name": "stdout",
     "output_type": "stream",
     "text": [
      "PID,Day,Arousal,Pleasure,Question\n",
      "\n",
      "null,0,66,82,3\n",
      "\n",
      "549229,3,35,86,2\n",
      "\n",
      "549229,5,73,76,5\n",
      "\n",
      "549229,6,69,82,4\n",
      "\n",
      "549229,7,73,88,6\n",
      "\n",
      "549229,8,73,90,5\n",
      "\n",
      "549229,9,73,80,1\n",
      "\n",
      "549229,10,80,75,5\n",
      "\n",
      "549229,11,77,85,8\n",
      "\n",
      "549229,12,82,77,7\n",
      "\n",
      "549229,12,73,87,3\n",
      "\n",
      "549229,14,74,88,7\n",
      "\n",
      "549229,15,77,91,5\n",
      "\n",
      "549229,16,90,77,7\n",
      "\n",
      "549229,19,89,94,5\n",
      "\n",
      "PID,Day,Arousal,Pleasure,Question\n",
      "\n",
      "null,0,83,79,6\n",
      "\n",
      "549088,0,77,75,7\n",
      "\n",
      "549088,2,82,83,8\n",
      "\n",
      "549088,3,75,74,1\n",
      "\n",
      "549088,4,90,86,3\n",
      "\n",
      "549088,5,84,90,7\n",
      "\n",
      "549088,6,79,80,8\n",
      "\n",
      "549088,7,80,81,3\n",
      "\n",
      "549088,8,70,69,6\n",
      "\n",
      "549088,9,74,74,6\n",
      "\n",
      "549088,10,69,75,8\n",
      "\n",
      "549088,11,75,75,8\n",
      "\n",
      "549088,12,81,87,6\n",
      "\n",
      "549088,13,85,84,8\n",
      "\n",
      "549088,14,83,82,7\n",
      "\n"
     ]
    }
   ],
   "source": [
    "for i in txtFiles:\n",
    "    inStream = open(i, 'r')\n",
    "    for line in inStream:\n",
    "        print line"
   ]
  }
 ],
 "metadata": {
  "kernelspec": {
   "display_name": "Python 2",
   "language": "python",
   "name": "python2"
  },
  "language_info": {
   "codemirror_mode": {
    "name": "ipython",
    "version": 2
   },
   "file_extension": ".py",
   "mimetype": "text/x-python",
   "name": "python",
   "nbconvert_exporter": "python",
   "pygments_lexer": "ipython2",
   "version": "2.7.12"
  }
 },
 "nbformat": 4,
 "nbformat_minor": 2
}
